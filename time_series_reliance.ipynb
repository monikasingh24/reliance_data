{
 "cells": [
  {
   "cell_type": "code",
   "execution_count": 23,
   "id": "4891286c",
   "metadata": {},
   "outputs": [],
   "source": [
    "import pandas as pd\n",
    "import numpy as np\n",
    "import warnings\n",
    "warnings.filterwarnings(\"ignore\") \n",
    "import matplotlib.pyplot as plt"
   ]
  },
  {
   "cell_type": "markdown",
   "id": "3e2ef015",
   "metadata": {},
   "source": [
    "# Reliance dataset"
   ]
  },
  {
   "cell_type": "code",
   "execution_count": 24,
   "id": "b476a432",
   "metadata": {},
   "outputs": [
    {
     "data": {
      "text/html": [
       "<div>\n",
       "<style scoped>\n",
       "    .dataframe tbody tr th:only-of-type {\n",
       "        vertical-align: middle;\n",
       "    }\n",
       "\n",
       "    .dataframe tbody tr th {\n",
       "        vertical-align: top;\n",
       "    }\n",
       "\n",
       "    .dataframe thead th {\n",
       "        text-align: right;\n",
       "    }\n",
       "</style>\n",
       "<table border=\"1\" class=\"dataframe\">\n",
       "  <thead>\n",
       "    <tr style=\"text-align: right;\">\n",
       "      <th></th>\n",
       "      <th>date</th>\n",
       "      <th>open</th>\n",
       "      <th>high</th>\n",
       "      <th>low</th>\n",
       "      <th>close</th>\n",
       "      <th>volume</th>\n",
       "      <th>symbol</th>\n",
       "    </tr>\n",
       "  </thead>\n",
       "  <tbody>\n",
       "    <tr>\n",
       "      <th>0</th>\n",
       "      <td>2000-01-03 00:00:00+05:30</td>\n",
       "      <td>45.72</td>\n",
       "      <td>48.45</td>\n",
       "      <td>45.72</td>\n",
       "      <td>48.45</td>\n",
       "      <td>23150255</td>\n",
       "      <td>RELIANCE</td>\n",
       "    </tr>\n",
       "    <tr>\n",
       "      <th>1</th>\n",
       "      <td>2000-01-04 00:00:00+05:30</td>\n",
       "      <td>49.74</td>\n",
       "      <td>52.33</td>\n",
       "      <td>48.38</td>\n",
       "      <td>52.33</td>\n",
       "      <td>49287678</td>\n",
       "      <td>RELIANCE</td>\n",
       "    </tr>\n",
       "    <tr>\n",
       "      <th>2</th>\n",
       "      <td>2000-01-05 00:00:00+05:30</td>\n",
       "      <td>49.41</td>\n",
       "      <td>55.42</td>\n",
       "      <td>49.41</td>\n",
       "      <td>54.38</td>\n",
       "      <td>139395761</td>\n",
       "      <td>RELIANCE</td>\n",
       "    </tr>\n",
       "    <tr>\n",
       "      <th>3</th>\n",
       "      <td>2000-01-06 00:00:00+05:30</td>\n",
       "      <td>55.63</td>\n",
       "      <td>57.88</td>\n",
       "      <td>55.63</td>\n",
       "      <td>56.66</td>\n",
       "      <td>81466421</td>\n",
       "      <td>RELIANCE</td>\n",
       "    </tr>\n",
       "    <tr>\n",
       "      <th>4</th>\n",
       "      <td>2000-01-07 00:00:00+05:30</td>\n",
       "      <td>56.79</td>\n",
       "      <td>61.20</td>\n",
       "      <td>56.40</td>\n",
       "      <td>60.55</td>\n",
       "      <td>103225855</td>\n",
       "      <td>RELIANCE</td>\n",
       "    </tr>\n",
       "    <tr>\n",
       "      <th>...</th>\n",
       "      <td>...</td>\n",
       "      <td>...</td>\n",
       "      <td>...</td>\n",
       "      <td>...</td>\n",
       "      <td>...</td>\n",
       "      <td>...</td>\n",
       "      <td>...</td>\n",
       "    </tr>\n",
       "    <tr>\n",
       "      <th>5805</th>\n",
       "      <td>2023-05-08 00:00:00+05:30</td>\n",
       "      <td>2450.00</td>\n",
       "      <td>2483.65</td>\n",
       "      <td>2444.15</td>\n",
       "      <td>2471.90</td>\n",
       "      <td>4224469</td>\n",
       "      <td>RELIANCE</td>\n",
       "    </tr>\n",
       "    <tr>\n",
       "      <th>5806</th>\n",
       "      <td>2023-05-09 00:00:00+05:30</td>\n",
       "      <td>2475.00</td>\n",
       "      <td>2486.80</td>\n",
       "      <td>2463.25</td>\n",
       "      <td>2479.55</td>\n",
       "      <td>2983468</td>\n",
       "      <td>RELIANCE</td>\n",
       "    </tr>\n",
       "    <tr>\n",
       "      <th>5807</th>\n",
       "      <td>2023-05-10 00:00:00+05:30</td>\n",
       "      <td>2490.00</td>\n",
       "      <td>2499.85</td>\n",
       "      <td>2481.20</td>\n",
       "      <td>2496.60</td>\n",
       "      <td>5017544</td>\n",
       "      <td>RELIANCE</td>\n",
       "    </tr>\n",
       "    <tr>\n",
       "      <th>5808</th>\n",
       "      <td>2023-05-11 00:00:00+05:30</td>\n",
       "      <td>2498.95</td>\n",
       "      <td>2509.50</td>\n",
       "      <td>2476.55</td>\n",
       "      <td>2480.30</td>\n",
       "      <td>4872451</td>\n",
       "      <td>RELIANCE</td>\n",
       "    </tr>\n",
       "    <tr>\n",
       "      <th>5809</th>\n",
       "      <td>2023-05-12 00:00:00+05:30</td>\n",
       "      <td>2469.80</td>\n",
       "      <td>2487.40</td>\n",
       "      <td>2456.50</td>\n",
       "      <td>2484.35</td>\n",
       "      <td>3209889</td>\n",
       "      <td>RELIANCE</td>\n",
       "    </tr>\n",
       "  </tbody>\n",
       "</table>\n",
       "<p>5810 rows × 7 columns</p>\n",
       "</div>"
      ],
      "text/plain": [
       "                           date     open     high      low    close  \\\n",
       "0     2000-01-03 00:00:00+05:30    45.72    48.45    45.72    48.45   \n",
       "1     2000-01-04 00:00:00+05:30    49.74    52.33    48.38    52.33   \n",
       "2     2000-01-05 00:00:00+05:30    49.41    55.42    49.41    54.38   \n",
       "3     2000-01-06 00:00:00+05:30    55.63    57.88    55.63    56.66   \n",
       "4     2000-01-07 00:00:00+05:30    56.79    61.20    56.40    60.55   \n",
       "...                         ...      ...      ...      ...      ...   \n",
       "5805  2023-05-08 00:00:00+05:30  2450.00  2483.65  2444.15  2471.90   \n",
       "5806  2023-05-09 00:00:00+05:30  2475.00  2486.80  2463.25  2479.55   \n",
       "5807  2023-05-10 00:00:00+05:30  2490.00  2499.85  2481.20  2496.60   \n",
       "5808  2023-05-11 00:00:00+05:30  2498.95  2509.50  2476.55  2480.30   \n",
       "5809  2023-05-12 00:00:00+05:30  2469.80  2487.40  2456.50  2484.35   \n",
       "\n",
       "         volume    symbol  \n",
       "0      23150255  RELIANCE  \n",
       "1      49287678  RELIANCE  \n",
       "2     139395761  RELIANCE  \n",
       "3      81466421  RELIANCE  \n",
       "4     103225855  RELIANCE  \n",
       "...         ...       ...  \n",
       "5805    4224469  RELIANCE  \n",
       "5806    2983468  RELIANCE  \n",
       "5807    5017544  RELIANCE  \n",
       "5808    4872451  RELIANCE  \n",
       "5809    3209889  RELIANCE  \n",
       "\n",
       "[5810 rows x 7 columns]"
      ]
     },
     "execution_count": 24,
     "metadata": {},
     "output_type": "execute_result"
    }
   ],
   "source": [
    "df=pd.read_csv('RELIANCE.csv')\n",
    "df"
   ]
  },
  {
   "cell_type": "code",
   "execution_count": 25,
   "id": "59673698",
   "metadata": {},
   "outputs": [
    {
     "data": {
      "text/html": [
       "<div>\n",
       "<style scoped>\n",
       "    .dataframe tbody tr th:only-of-type {\n",
       "        vertical-align: middle;\n",
       "    }\n",
       "\n",
       "    .dataframe tbody tr th {\n",
       "        vertical-align: top;\n",
       "    }\n",
       "\n",
       "    .dataframe thead th {\n",
       "        text-align: right;\n",
       "    }\n",
       "</style>\n",
       "<table border=\"1\" class=\"dataframe\">\n",
       "  <thead>\n",
       "    <tr style=\"text-align: right;\">\n",
       "      <th></th>\n",
       "      <th>date</th>\n",
       "      <th>close</th>\n",
       "    </tr>\n",
       "  </thead>\n",
       "  <tbody>\n",
       "    <tr>\n",
       "      <th>0</th>\n",
       "      <td>2000-01-03 00:00:00+05:30</td>\n",
       "      <td>48.45</td>\n",
       "    </tr>\n",
       "    <tr>\n",
       "      <th>1</th>\n",
       "      <td>2000-01-04 00:00:00+05:30</td>\n",
       "      <td>52.33</td>\n",
       "    </tr>\n",
       "    <tr>\n",
       "      <th>2</th>\n",
       "      <td>2000-01-05 00:00:00+05:30</td>\n",
       "      <td>54.38</td>\n",
       "    </tr>\n",
       "    <tr>\n",
       "      <th>3</th>\n",
       "      <td>2000-01-06 00:00:00+05:30</td>\n",
       "      <td>56.66</td>\n",
       "    </tr>\n",
       "    <tr>\n",
       "      <th>4</th>\n",
       "      <td>2000-01-07 00:00:00+05:30</td>\n",
       "      <td>60.55</td>\n",
       "    </tr>\n",
       "    <tr>\n",
       "      <th>...</th>\n",
       "      <td>...</td>\n",
       "      <td>...</td>\n",
       "    </tr>\n",
       "    <tr>\n",
       "      <th>5805</th>\n",
       "      <td>2023-05-08 00:00:00+05:30</td>\n",
       "      <td>2471.90</td>\n",
       "    </tr>\n",
       "    <tr>\n",
       "      <th>5806</th>\n",
       "      <td>2023-05-09 00:00:00+05:30</td>\n",
       "      <td>2479.55</td>\n",
       "    </tr>\n",
       "    <tr>\n",
       "      <th>5807</th>\n",
       "      <td>2023-05-10 00:00:00+05:30</td>\n",
       "      <td>2496.60</td>\n",
       "    </tr>\n",
       "    <tr>\n",
       "      <th>5808</th>\n",
       "      <td>2023-05-11 00:00:00+05:30</td>\n",
       "      <td>2480.30</td>\n",
       "    </tr>\n",
       "    <tr>\n",
       "      <th>5809</th>\n",
       "      <td>2023-05-12 00:00:00+05:30</td>\n",
       "      <td>2484.35</td>\n",
       "    </tr>\n",
       "  </tbody>\n",
       "</table>\n",
       "<p>5810 rows × 2 columns</p>\n",
       "</div>"
      ],
      "text/plain": [
       "                           date    close\n",
       "0     2000-01-03 00:00:00+05:30    48.45\n",
       "1     2000-01-04 00:00:00+05:30    52.33\n",
       "2     2000-01-05 00:00:00+05:30    54.38\n",
       "3     2000-01-06 00:00:00+05:30    56.66\n",
       "4     2000-01-07 00:00:00+05:30    60.55\n",
       "...                         ...      ...\n",
       "5805  2023-05-08 00:00:00+05:30  2471.90\n",
       "5806  2023-05-09 00:00:00+05:30  2479.55\n",
       "5807  2023-05-10 00:00:00+05:30  2496.60\n",
       "5808  2023-05-11 00:00:00+05:30  2480.30\n",
       "5809  2023-05-12 00:00:00+05:30  2484.35\n",
       "\n",
       "[5810 rows x 2 columns]"
      ]
     },
     "execution_count": 25,
     "metadata": {},
     "output_type": "execute_result"
    }
   ],
   "source": [
    "df1=df[['date','close']]\n",
    "df1"
   ]
  },
  {
   "cell_type": "code",
   "execution_count": 26,
   "id": "c2f162eb",
   "metadata": {},
   "outputs": [
    {
     "data": {
      "image/png": "[encoded data removed]",
      "text/plain": [
       "<Figure size 432x288 with 1 Axes>"
      ]
     },
     "metadata": {
      "needs_background": "light"
     },
     "output_type": "display_data"
    }
   ],
   "source": [
    "fig, ax = plt.subplots()\n",
    "ax.plot(df1['close'])\n",
    "ax.set_xlabel('Timesteps')\n",
    "ax.set_ylabel('Value')\n",
    "plt.tight_layout()"
   ]
  },
  {
   "cell_type": "markdown",
   "id": "7c89494d",
   "metadata": {},
   "source": [
    "# Lets Check for stationary behaviour of data"
   ]
  },
  {
   "cell_type": "code",
   "execution_count": 27,
   "id": "88938a85",
   "metadata": {},
   "outputs": [],
   "source": [
    "from statsmodels.tsa.stattools import adfuller\n",
    "from statsmodels.graphics.tsaplots import plot_acf"
   ]
  },
  {
   "cell_type": "code",
   "execution_count": 28,
   "id": "0b245aeb",
   "metadata": {},
   "outputs": [
    {
     "name": "stdout",
     "output_type": "stream",
     "text": [
      "ADF Statistic: 0.7024129636693597\n",
      "p-value: 0.9898859015946532\n"
     ]
    }
   ],
   "source": [
    "ADF_result = adfuller(df1['close'])\n",
    "print(f'ADF Statistic: {ADF_result[0]}')\n",
    "print(f'p-value: {ADF_result[1]}')"
   ]
  },
  {
   "cell_type": "markdown",
   "id": "711d4fa1",
   "metadata": {},
   "source": [
    "# since adf statistic is less positive and p value is greater than 0.05 the data is non-stationary"
   ]
  },
  {
   "cell_type": "markdown",
   "id": "886b030c",
   "metadata": {},
   "source": [
    "# lets make the data stationary"
   ]
  },
  {
   "cell_type": "code",
   "execution_count": 29,
   "id": "de39284a",
   "metadata": {},
   "outputs": [],
   "source": [
    "diff_reliance = np.diff(df1['close'], n=1)"
   ]
  },
  {
   "cell_type": "code",
   "execution_count": 30,
   "id": "91598d67",
   "metadata": {},
   "outputs": [
    {
     "name": "stdout",
     "output_type": "stream",
     "text": [
      "ADF Statistic: -13.886235450275992\n",
      "p-value: 6.082810277809486e-26\n"
     ]
    }
   ],
   "source": [
    "ADF_result = adfuller(diff_reliance)\n",
    "print(f'ADF Statistic: {ADF_result[0]}')\n",
    "print(f'p-value: {ADF_result[1]}')"
   ]
  },
  {
   "cell_type": "markdown",
   "id": "9e60836d",
   "metadata": {},
   "source": [
    "# since adf statistic is more positive and p value is less than 0.05 the data is stationary¶"
   ]
  },
  {
   "cell_type": "code",
   "execution_count": null,
   "id": "12d03f52",
   "metadata": {},
   "outputs": [],
   "source": []
  },
  {
   "cell_type": "markdown",
   "id": "ed4aa010",
   "metadata": {},
   "source": [
    "# Lets CHeck for Random Walk"
   ]
  },
  {
   "cell_type": "code",
   "execution_count": 31,
   "id": "a255bf98",
   "metadata": {},
   "outputs": [
    {
     "data": {
      "image/png": "[encoded data removed]",
      "text/plain": [
       "<Figure size 432x288 with 1 Axes>"
      ]
     },
     "execution_count": 31,
     "metadata": {},
     "output_type": "execute_result"
    },
    {
     "data": {
      "image/png": "[encoded data removed]",
      "text/plain": [
       "<Figure size 432x288 with 1 Axes>"
      ]
     },
     "metadata": {
      "needs_background": "light"
     },
     "output_type": "display_data"
    }
   ],
   "source": [
    "plot_acf(diff_reliance , lags=20)"
   ]
  },
  {
   "cell_type": "code",
   "execution_count": null,
   "id": "8db771c0",
   "metadata": {},
   "outputs": [],
   "source": []
  },
  {
   "cell_type": "markdown",
   "id": "fb68b773",
   "metadata": {},
   "source": [
    "# since the points are within  the shaded region we conclude that autocorrelation is significant hence its a RANDOM WALk"
   ]
  },
  {
   "cell_type": "code",
   "execution_count": null,
   "id": "d382f970",
   "metadata": {},
   "outputs": [],
   "source": []
  },
  {
   "cell_type": "markdown",
   "id": "2fe1e2d9",
   "metadata": {},
   "source": [
    "# Historic Mean"
   ]
  },
  {
   "cell_type": "code",
   "execution_count": 32,
   "id": "2b5eb990",
   "metadata": {},
   "outputs": [],
   "source": [
    "x_train=df1['close'].iloc[:5805]\n",
    "x_test=df1['close'].iloc[5805:]"
   ]
  },
  {
   "cell_type": "code",
   "execution_count": 33,
   "id": "02b428fc",
   "metadata": {},
   "outputs": [
    {
     "data": {
      "text/html": [
       "<div>\n",
       "<style scoped>\n",
       "    .dataframe tbody tr th:only-of-type {\n",
       "        vertical-align: middle;\n",
       "    }\n",
       "\n",
       "    .dataframe tbody tr th {\n",
       "        vertical-align: top;\n",
       "    }\n",
       "\n",
       "    .dataframe thead th {\n",
       "        text-align: right;\n",
       "    }\n",
       "</style>\n",
       "<table border=\"1\" class=\"dataframe\">\n",
       "  <thead>\n",
       "    <tr style=\"text-align: right;\">\n",
       "      <th></th>\n",
       "      <th>date</th>\n",
       "      <th>close</th>\n",
       "      <th>his_mean</th>\n",
       "    </tr>\n",
       "  </thead>\n",
       "  <tbody>\n",
       "    <tr>\n",
       "      <th>5805</th>\n",
       "      <td>2023-05-08 00:00:00+05:30</td>\n",
       "      <td>2471.90</td>\n",
       "      <td>674.287525</td>\n",
       "    </tr>\n",
       "    <tr>\n",
       "      <th>5806</th>\n",
       "      <td>2023-05-09 00:00:00+05:30</td>\n",
       "      <td>2479.55</td>\n",
       "      <td>674.287525</td>\n",
       "    </tr>\n",
       "    <tr>\n",
       "      <th>5807</th>\n",
       "      <td>2023-05-10 00:00:00+05:30</td>\n",
       "      <td>2496.60</td>\n",
       "      <td>674.287525</td>\n",
       "    </tr>\n",
       "    <tr>\n",
       "      <th>5808</th>\n",
       "      <td>2023-05-11 00:00:00+05:30</td>\n",
       "      <td>2480.30</td>\n",
       "      <td>674.287525</td>\n",
       "    </tr>\n",
       "    <tr>\n",
       "      <th>5809</th>\n",
       "      <td>2023-05-12 00:00:00+05:30</td>\n",
       "      <td>2484.35</td>\n",
       "      <td>674.287525</td>\n",
       "    </tr>\n",
       "  </tbody>\n",
       "</table>\n",
       "</div>"
      ],
      "text/plain": [
       "                           date    close    his_mean\n",
       "5805  2023-05-08 00:00:00+05:30  2471.90  674.287525\n",
       "5806  2023-05-09 00:00:00+05:30  2479.55  674.287525\n",
       "5807  2023-05-10 00:00:00+05:30  2496.60  674.287525\n",
       "5808  2023-05-11 00:00:00+05:30  2480.30  674.287525\n",
       "5809  2023-05-12 00:00:00+05:30  2484.35  674.287525"
      ]
     },
     "execution_count": 33,
     "metadata": {},
     "output_type": "execute_result"
    }
   ],
   "source": [
    "new_df=df1[5805:]\n",
    "new_df['his_mean']=x_train.mean()\n",
    "new_df"
   ]
  },
  {
   "cell_type": "code",
   "execution_count": 34,
   "id": "82f80e12",
   "metadata": {},
   "outputs": [
    {
     "name": "stdout",
     "output_type": "stream",
     "text": [
      "MAPE = 72.84\n",
      "MSE = 326984264.04\n",
      "RMSE = 180827.06\n"
     ]
    }
   ],
   "source": [
    "from sklearn.metrics import mean_absolute_percentage_error,mean_squared_error\n",
    "y_train=new_df['close']\n",
    "y_test=new_df['his_mean']\n",
    "print('MAPE =',round(100*mean_absolute_percentage_error(y_train, y_test),2))\n",
    "print('MSE =',round(100*mean_squared_error(y_train, y_test),2))\n",
    "print('RMSE =',round(100*(mean_squared_error(y_train, y_test,squared=False)),2))"
   ]
  },
  {
   "cell_type": "code",
   "execution_count": null,
   "id": "b15a1a7a",
   "metadata": {},
   "outputs": [],
   "source": []
  },
  {
   "cell_type": "markdown",
   "id": "71bee858",
   "metadata": {},
   "source": [
    "# Last Value"
   ]
  },
  {
   "cell_type": "code",
   "execution_count": 35,
   "id": "53c9d8ec",
   "metadata": {},
   "outputs": [
    {
     "data": {
      "text/plain": [
       "2441.75"
      ]
     },
     "execution_count": 35,
     "metadata": {},
     "output_type": "execute_result"
    }
   ],
   "source": [
    "x_train=df1['close'][:5805]\n",
    "a=x_train[-1:].iloc[0]\n",
    "a"
   ]
  },
  {
   "cell_type": "code",
   "execution_count": 36,
   "id": "a28c1fda",
   "metadata": {},
   "outputs": [
    {
     "data": {
      "text/html": [
       "<div>\n",
       "<style scoped>\n",
       "    .dataframe tbody tr th:only-of-type {\n",
       "        vertical-align: middle;\n",
       "    }\n",
       "\n",
       "    .dataframe tbody tr th {\n",
       "        vertical-align: top;\n",
       "    }\n",
       "\n",
       "    .dataframe thead th {\n",
       "        text-align: right;\n",
       "    }\n",
       "</style>\n",
       "<table border=\"1\" class=\"dataframe\">\n",
       "  <thead>\n",
       "    <tr style=\"text-align: right;\">\n",
       "      <th></th>\n",
       "      <th>date</th>\n",
       "      <th>close</th>\n",
       "      <th>Last_Value</th>\n",
       "    </tr>\n",
       "  </thead>\n",
       "  <tbody>\n",
       "    <tr>\n",
       "      <th>5805</th>\n",
       "      <td>2023-05-08 00:00:00+05:30</td>\n",
       "      <td>2471.90</td>\n",
       "      <td>2441.75</td>\n",
       "    </tr>\n",
       "    <tr>\n",
       "      <th>5806</th>\n",
       "      <td>2023-05-09 00:00:00+05:30</td>\n",
       "      <td>2479.55</td>\n",
       "      <td>2441.75</td>\n",
       "    </tr>\n",
       "    <tr>\n",
       "      <th>5807</th>\n",
       "      <td>2023-05-10 00:00:00+05:30</td>\n",
       "      <td>2496.60</td>\n",
       "      <td>2441.75</td>\n",
       "    </tr>\n",
       "    <tr>\n",
       "      <th>5808</th>\n",
       "      <td>2023-05-11 00:00:00+05:30</td>\n",
       "      <td>2480.30</td>\n",
       "      <td>2441.75</td>\n",
       "    </tr>\n",
       "    <tr>\n",
       "      <th>5809</th>\n",
       "      <td>2023-05-12 00:00:00+05:30</td>\n",
       "      <td>2484.35</td>\n",
       "      <td>2441.75</td>\n",
       "    </tr>\n",
       "  </tbody>\n",
       "</table>\n",
       "</div>"
      ],
      "text/plain": [
       "                           date    close  Last_Value\n",
       "5805  2023-05-08 00:00:00+05:30  2471.90     2441.75\n",
       "5806  2023-05-09 00:00:00+05:30  2479.55     2441.75\n",
       "5807  2023-05-10 00:00:00+05:30  2496.60     2441.75\n",
       "5808  2023-05-11 00:00:00+05:30  2480.30     2441.75\n",
       "5809  2023-05-12 00:00:00+05:30  2484.35     2441.75"
      ]
     },
     "execution_count": 36,
     "metadata": {},
     "output_type": "execute_result"
    }
   ],
   "source": [
    "last_df=df1[5805:]\n",
    "last_df['Last_Value']=a\n",
    "last_df\n"
   ]
  },
  {
   "cell_type": "code",
   "execution_count": 37,
   "id": "5038d679",
   "metadata": {},
   "outputs": [
    {
     "name": "stdout",
     "output_type": "stream",
     "text": [
      "MAPE = 1.64\n",
      "MSE = 172944.95\n",
      "RMSE = 4158.67\n"
     ]
    }
   ],
   "source": [
    "from sklearn.metrics import mean_absolute_percentage_error,mean_squared_error\n",
    "y_train=last_df['close']\n",
    "y_test=last_df['Last_Value']\n",
    "print('MAPE =',round(100*mean_absolute_percentage_error(y_train, y_test),2))\n",
    "print('MSE =',round(100*mean_squared_error(y_train, y_test),2))\n",
    "print('RMSE =',round(100*(mean_squared_error(y_train, y_test,squared=False)),2))"
   ]
  },
  {
   "cell_type": "code",
   "execution_count": null,
   "id": "c4fbaf88",
   "metadata": {},
   "outputs": [],
   "source": []
  },
  {
   "cell_type": "markdown",
   "id": "54b22465",
   "metadata": {},
   "source": [
    "# Last Value with next time stamp"
   ]
  },
  {
   "cell_type": "code",
   "execution_count": 38,
   "id": "ebeeafac",
   "metadata": {},
   "outputs": [
    {
     "data": {
      "text/plain": [
       "2441.75"
      ]
     },
     "execution_count": 38,
     "metadata": {},
     "output_type": "execute_result"
    }
   ],
   "source": [
    "x_train=df1['close'][:5805]\n",
    "a=x_train[-1:].iloc[0]\n",
    "a"
   ]
  },
  {
   "cell_type": "code",
   "execution_count": 39,
   "id": "e15f527c",
   "metadata": {},
   "outputs": [
    {
     "data": {
      "text/html": [
       "<div>\n",
       "<style scoped>\n",
       "    .dataframe tbody tr th:only-of-type {\n",
       "        vertical-align: middle;\n",
       "    }\n",
       "\n",
       "    .dataframe tbody tr th {\n",
       "        vertical-align: top;\n",
       "    }\n",
       "\n",
       "    .dataframe thead th {\n",
       "        text-align: right;\n",
       "    }\n",
       "</style>\n",
       "<table border=\"1\" class=\"dataframe\">\n",
       "  <thead>\n",
       "    <tr style=\"text-align: right;\">\n",
       "      <th></th>\n",
       "      <th>date</th>\n",
       "      <th>close</th>\n",
       "    </tr>\n",
       "  </thead>\n",
       "  <tbody>\n",
       "    <tr>\n",
       "      <th>5805</th>\n",
       "      <td>2023-05-08 00:00:00+05:30</td>\n",
       "      <td>2471.90</td>\n",
       "    </tr>\n",
       "    <tr>\n",
       "      <th>5806</th>\n",
       "      <td>2023-05-09 00:00:00+05:30</td>\n",
       "      <td>2479.55</td>\n",
       "    </tr>\n",
       "    <tr>\n",
       "      <th>5807</th>\n",
       "      <td>2023-05-10 00:00:00+05:30</td>\n",
       "      <td>2496.60</td>\n",
       "    </tr>\n",
       "    <tr>\n",
       "      <th>5808</th>\n",
       "      <td>2023-05-11 00:00:00+05:30</td>\n",
       "      <td>2480.30</td>\n",
       "    </tr>\n",
       "    <tr>\n",
       "      <th>5809</th>\n",
       "      <td>2023-05-12 00:00:00+05:30</td>\n",
       "      <td>2484.35</td>\n",
       "    </tr>\n",
       "  </tbody>\n",
       "</table>\n",
       "</div>"
      ],
      "text/plain": [
       "                           date    close\n",
       "5805  2023-05-08 00:00:00+05:30  2471.90\n",
       "5806  2023-05-09 00:00:00+05:30  2479.55\n",
       "5807  2023-05-10 00:00:00+05:30  2496.60\n",
       "5808  2023-05-11 00:00:00+05:30  2480.30\n",
       "5809  2023-05-12 00:00:00+05:30  2484.35"
      ]
     },
     "execution_count": 39,
     "metadata": {},
     "output_type": "execute_result"
    }
   ],
   "source": [
    "next_ts=df1[5805:]\n",
    "next_ts\n"
   ]
  },
  {
   "cell_type": "code",
   "execution_count": 40,
   "id": "3d07a375",
   "metadata": {},
   "outputs": [],
   "source": [
    "def lagging_column(next_ts, close, lag_periods=1):\n",
    "    next_ts['next_value'] = next_ts['close'].shift(lag_periods)\n",
    "    return next_ts"
   ]
  },
  {
   "cell_type": "code",
   "execution_count": 41,
   "id": "03b9a9df",
   "metadata": {},
   "outputs": [],
   "source": [
    "next_ts= lagging_column(next_ts, 'close', lag_periods=1)"
   ]
  },
  {
   "cell_type": "code",
   "execution_count": 42,
   "id": "cc5aea44",
   "metadata": {},
   "outputs": [
    {
     "data": {
      "text/html": [
       "<div>\n",
       "<style scoped>\n",
       "    .dataframe tbody tr th:only-of-type {\n",
       "        vertical-align: middle;\n",
       "    }\n",
       "\n",
       "    .dataframe tbody tr th {\n",
       "        vertical-align: top;\n",
       "    }\n",
       "\n",
       "    .dataframe thead th {\n",
       "        text-align: right;\n",
       "    }\n",
       "</style>\n",
       "<table border=\"1\" class=\"dataframe\">\n",
       "  <thead>\n",
       "    <tr style=\"text-align: right;\">\n",
       "      <th></th>\n",
       "      <th>date</th>\n",
       "      <th>close</th>\n",
       "      <th>next_value</th>\n",
       "    </tr>\n",
       "  </thead>\n",
       "  <tbody>\n",
       "    <tr>\n",
       "      <th>5805</th>\n",
       "      <td>2023-05-08 00:00:00+05:30</td>\n",
       "      <td>2471.90</td>\n",
       "      <td>2441.75</td>\n",
       "    </tr>\n",
       "    <tr>\n",
       "      <th>5806</th>\n",
       "      <td>2023-05-09 00:00:00+05:30</td>\n",
       "      <td>2479.55</td>\n",
       "      <td>2471.90</td>\n",
       "    </tr>\n",
       "    <tr>\n",
       "      <th>5807</th>\n",
       "      <td>2023-05-10 00:00:00+05:30</td>\n",
       "      <td>2496.60</td>\n",
       "      <td>2479.55</td>\n",
       "    </tr>\n",
       "    <tr>\n",
       "      <th>5808</th>\n",
       "      <td>2023-05-11 00:00:00+05:30</td>\n",
       "      <td>2480.30</td>\n",
       "      <td>2496.60</td>\n",
       "    </tr>\n",
       "    <tr>\n",
       "      <th>5809</th>\n",
       "      <td>2023-05-12 00:00:00+05:30</td>\n",
       "      <td>2484.35</td>\n",
       "      <td>2480.30</td>\n",
       "    </tr>\n",
       "  </tbody>\n",
       "</table>\n",
       "</div>"
      ],
      "text/plain": [
       "                           date    close  next_value\n",
       "5805  2023-05-08 00:00:00+05:30  2471.90     2441.75\n",
       "5806  2023-05-09 00:00:00+05:30  2479.55     2471.90\n",
       "5807  2023-05-10 00:00:00+05:30  2496.60     2479.55\n",
       "5808  2023-05-11 00:00:00+05:30  2480.30     2496.60\n",
       "5809  2023-05-12 00:00:00+05:30  2484.35     2480.30"
      ]
     },
     "execution_count": 42,
     "metadata": {},
     "output_type": "execute_result"
    }
   ],
   "source": [
    "next_ts['next_value']=next_ts['next_value'].fillna(a)\n",
    "next_ts"
   ]
  },
  {
   "cell_type": "code",
   "execution_count": 43,
   "id": "1a9d37f3",
   "metadata": {},
   "outputs": [
    {
     "name": "stdout",
     "output_type": "stream",
     "text": [
      "MAPE = 0.61\n",
      "MSE = 30806.8\n",
      "RMSE = 1755.19\n"
     ]
    }
   ],
   "source": [
    "from sklearn.metrics import mean_absolute_percentage_error,mean_squared_error\n",
    "y_train=next_ts['close']\n",
    "y_test=next_ts['next_value']\n",
    "print('MAPE =',round(100*mean_absolute_percentage_error(y_train, y_test),2))\n",
    "print('MSE =',round(100*mean_squared_error(y_train, y_test),2))\n",
    "print('RMSE =',round(100*(mean_squared_error(y_train, y_test,squared=False)),2))"
   ]
  },
  {
   "cell_type": "markdown",
   "id": "9977896c",
   "metadata": {},
   "source": [
    "# MSE has reduced drastically by using last value next time stamp"
   ]
  },
  {
   "cell_type": "markdown",
   "id": "e168efe8",
   "metadata": {},
   "source": [
    "# Last One Month Mean"
   ]
  },
  {
   "cell_type": "code",
   "execution_count": 44,
   "id": "bc430ccf",
   "metadata": {},
   "outputs": [
    {
     "data": {
      "text/plain": [
       "2333.7166666666667"
      ]
     },
     "execution_count": 44,
     "metadata": {},
     "output_type": "execute_result"
    }
   ],
   "source": [
    "x_train=df1['close'][:5805]\n",
    "a=x_train[5775:].mean()\n",
    "a"
   ]
  },
  {
   "cell_type": "code",
   "execution_count": 45,
   "id": "966aa0ee",
   "metadata": {},
   "outputs": [
    {
     "data": {
      "text/html": [
       "<div>\n",
       "<style scoped>\n",
       "    .dataframe tbody tr th:only-of-type {\n",
       "        vertical-align: middle;\n",
       "    }\n",
       "\n",
       "    .dataframe tbody tr th {\n",
       "        vertical-align: top;\n",
       "    }\n",
       "\n",
       "    .dataframe thead th {\n",
       "        text-align: right;\n",
       "    }\n",
       "</style>\n",
       "<table border=\"1\" class=\"dataframe\">\n",
       "  <thead>\n",
       "    <tr style=\"text-align: right;\">\n",
       "      <th></th>\n",
       "      <th>date</th>\n",
       "      <th>close</th>\n",
       "      <th>Month_Mean</th>\n",
       "    </tr>\n",
       "  </thead>\n",
       "  <tbody>\n",
       "    <tr>\n",
       "      <th>5805</th>\n",
       "      <td>2023-05-08 00:00:00+05:30</td>\n",
       "      <td>2471.90</td>\n",
       "      <td>2333.716667</td>\n",
       "    </tr>\n",
       "    <tr>\n",
       "      <th>5806</th>\n",
       "      <td>2023-05-09 00:00:00+05:30</td>\n",
       "      <td>2479.55</td>\n",
       "      <td>2333.716667</td>\n",
       "    </tr>\n",
       "    <tr>\n",
       "      <th>5807</th>\n",
       "      <td>2023-05-10 00:00:00+05:30</td>\n",
       "      <td>2496.60</td>\n",
       "      <td>2333.716667</td>\n",
       "    </tr>\n",
       "    <tr>\n",
       "      <th>5808</th>\n",
       "      <td>2023-05-11 00:00:00+05:30</td>\n",
       "      <td>2480.30</td>\n",
       "      <td>2333.716667</td>\n",
       "    </tr>\n",
       "    <tr>\n",
       "      <th>5809</th>\n",
       "      <td>2023-05-12 00:00:00+05:30</td>\n",
       "      <td>2484.35</td>\n",
       "      <td>2333.716667</td>\n",
       "    </tr>\n",
       "  </tbody>\n",
       "</table>\n",
       "</div>"
      ],
      "text/plain": [
       "                           date    close   Month_Mean\n",
       "5805  2023-05-08 00:00:00+05:30  2471.90  2333.716667\n",
       "5806  2023-05-09 00:00:00+05:30  2479.55  2333.716667\n",
       "5807  2023-05-10 00:00:00+05:30  2496.60  2333.716667\n",
       "5808  2023-05-11 00:00:00+05:30  2480.30  2333.716667\n",
       "5809  2023-05-12 00:00:00+05:30  2484.35  2333.716667"
      ]
     },
     "execution_count": 45,
     "metadata": {},
     "output_type": "execute_result"
    }
   ],
   "source": [
    "m_df=df1[5805:]\n",
    "m_df['Month_Mean']=a\n",
    "m_df"
   ]
  },
  {
   "cell_type": "code",
   "execution_count": 46,
   "id": "67eb1a76",
   "metadata": {},
   "outputs": [
    {
     "name": "stdout",
     "output_type": "stream",
     "text": [
      "MAPE = 5.99\n",
      "MSE = 2221400.99\n",
      "RMSE = 14904.37\n"
     ]
    }
   ],
   "source": [
    "from sklearn.metrics import mean_absolute_percentage_error,mean_squared_error\n",
    "y_train=m_df['close']\n",
    "y_test=m_df['Month_Mean']\n",
    "print('MAPE =',round(100*mean_absolute_percentage_error(y_train, y_test),2))\n",
    "print('MSE =',round(100*mean_squared_error(y_train, y_test),2))\n",
    "print('RMSE =',round(100*(mean_squared_error(y_train, y_test,squared=False)),2))"
   ]
  },
  {
   "cell_type": "markdown",
   "id": "3cb7ef39",
   "metadata": {},
   "source": [
    "# Since the best MSE is obtained using last_value with next time stamp we plot the graph against the close value and next_value"
   ]
  },
  {
   "cell_type": "markdown",
   "id": "6dce9e5f",
   "metadata": {},
   "source": [
    "# forecast plotting"
   ]
  },
  {
   "cell_type": "code",
   "execution_count": 48,
   "id": "02fa9ccc",
   "metadata": {},
   "outputs": [
    {
     "data": {
      "image/png": "[encoded data removed]",
      "text/plain": [
       "<Figure size 1080x432 with 1 Axes>"
      ]
     },
     "metadata": {
      "needs_background": "light"
     },
     "output_type": "display_data"
    }
   ],
   "source": [
    "plt.figure(figsize=(15, 6)) \n",
    "plt.plot(new_df['close'], label='Actual')\n",
    "plt.plot(next_ts['next_value'], label='next_timestamp')\n",
    "plt.xlabel('Index')\n",
    "plt.ylabel('Value')\n",
    "plt.legend()\n",
    "plt.show()"
   ]
  },
  {
   "cell_type": "code",
   "execution_count": null,
   "id": "2ccd0395",
   "metadata": {},
   "outputs": [],
   "source": []
  },
  {
   "cell_type": "code",
   "execution_count": null,
   "id": "9a0b8097",
   "metadata": {},
   "outputs": [],
   "source": []
  },
  {
   "cell_type": "code",
   "execution_count": null,
   "id": "66d4ef1c",
   "metadata": {},
   "outputs": [],
   "source": []
  },
  {
   "cell_type": "code",
   "execution_count": null,
   "id": "90e9b836",
   "metadata": {},
   "outputs": [],
   "source": []
  },
  {
   "cell_type": "code",
   "execution_count": null,
   "id": "6cf44f3e",
   "metadata": {},
   "outputs": [],
   "source": []
  },
  {
   "cell_type": "code",
   "execution_count": null,
   "id": "a5f75c67",
   "metadata": {},
   "outputs": [],
   "source": []
  },
  {
   "cell_type": "code",
   "execution_count": null,
   "id": "79017dd1",
   "metadata": {},
   "outputs": [],
   "source": []
  },
  {
   "cell_type": "code",
   "execution_count": null,
   "id": "fae173e1",
   "metadata": {},
   "outputs": [],
   "source": []
  },
  {
   "cell_type": "code",
   "execution_count": null,
   "id": "d3426009",
   "metadata": {},
   "outputs": [],
   "source": []
  },
  {
   "cell_type": "code",
   "execution_count": null,
   "id": "0fed9199",
   "metadata": {},
   "outputs": [],
   "source": []
  }
 ],
 "metadata": {
  "kernelspec": {
   "display_name": "Python 3 (ipykernel)",
   "language": "python",
   "name": "python3"
  },
  "language_info": {
   "codemirror_mode": {
    "name": "ipython",
    "version": 3
   },
   "file_extension": ".py",
   "mimetype": "text/x-python",
   "name": "python",
   "nbconvert_exporter": "python",
   "pygments_lexer": "ipython3",
   "version": "3.9.12"
  }
 },
 "nbformat": 4,
 "nbformat_minor": 5
}
